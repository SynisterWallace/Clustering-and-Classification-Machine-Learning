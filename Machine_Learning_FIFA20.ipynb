{
  "nbformat": 4,
  "nbformat_minor": 0,
  "metadata": {
    "colab": {
      "name": "Machine Learning FIFA20",
      "provenance": [],
      "collapsed_sections": [
        "9ZlA4vi9VZyp",
        "tkX0NbmNn5i5",
        "iAIN7TILlCDC"
      ]
    },
    "kernelspec": {
      "name": "python3",
      "display_name": "Python 3"
    }
  },
  "cells": [
    {
      "cell_type": "markdown",
      "metadata": {
        "id": "aPAUgQnAzkkq",
        "colab_type": "text"
      },
      "source": [
        "# CLUSTERING AND CLASSIFICATION FIFA20"
      ]
    },
    {
      "cell_type": "markdown",
      "metadata": {
        "id": "_dzTGXEVz3OE",
        "colab_type": "text"
      },
      "source": [
        "Teredapat beberapa model dan dua perlakuan data. Untuk data dengan SUB dan RES akan memakan waktu yang cukup lama dalam proses training data pada klasifikasi dan clustering. Untuk mempersingkat waktu, sangat disarankan untuk melakukan run pada data tanpa SUB dan RES terlebih dahulu"
      ]
    },
    {
      "cell_type": "code",
      "metadata": {
        "id": "awOJQWz_Zvoq",
        "colab_type": "code",
        "colab": {}
      },
      "source": [
        "import math\n",
        "import random as rd\n",
        "import matplotlib.pyplot as plt\n",
        "import pandas as pd\n",
        "from pandas import DataFrame\n",
        "import numpy as np\n",
        "import sklearn\n",
        "from sklearn import preprocessing, linear_model\n",
        "from copy import deepcopy\n",
        "from tensorflow.keras import layers\n",
        "from sklearn.model_selection import train_test_split\n",
        "from keras.layers import Dense\n",
        "from keras.models import Sequential\n",
        "from keras.utils import to_categorical\n",
        "from sklearn.svm import SVC\n",
        "import sklearn.metrics as metrics\n",
        "from sklearn.metrics import confusion_matrix,classification_report,accuracy_score\n",
        "from sklearn.model_selection import GridSearchCV\n",
        "from sklearn.ensemble import RandomForestClassifier\n",
        "from sklearn.neighbors import KNeighborsClassifier\n",
        "\n",
        "\n",
        "\n",
        "from google.colab import drive"
      ],
      "execution_count": 0,
      "outputs": []
    },
    {
      "cell_type": "markdown",
      "metadata": {
        "id": "Bc6sxIzMGxTf",
        "colab_type": "text"
      },
      "source": [
        "**Load Dataset**"
      ]
    },
    {
      "cell_type": "code",
      "metadata": {
        "id": "4qEGqa76Zxx6",
        "colab_type": "code",
        "colab": {}
      },
      "source": [
        "import requests\n",
        "from io import StringIO\n",
        "\n",
        "url = requests.get('https://drive.google.com/u/0/uc?id=1ZMCJ3BI0DlfSK74hZC9a_MBnm0Br8e5T&export=download')\n",
        "csv_raw = StringIO(url.text)\n",
        "data = pd.read_csv(csv_raw)"
      ],
      "execution_count": 0,
      "outputs": []
    },
    {
      "cell_type": "markdown",
      "metadata": {
        "id": "9ZlA4vi9VZyp",
        "colab_type": "text"
      },
      "source": [
        "## PENYIAPAN DATA"
      ]
    },
    {
      "cell_type": "markdown",
      "metadata": {
        "id": "LIAbSdWxuYuZ",
        "colab_type": "text"
      },
      "source": [
        "**Drop kolom dengan nilai data yang unik**"
      ]
    },
    {
      "cell_type": "code",
      "metadata": {
        "id": "WMnEri3cZ3IR",
        "colab_type": "code",
        "colab": {}
      },
      "source": [
        "penampungan = []\n",
        "col = data.columns\n",
        "s = data['player_tags']\n",
        "tags = s.copy()\n",
        "s = data['loaned_from']\n",
        "loan = s.copy()\n",
        "s = data['joined']\n",
        "join = s.copy()\n",
        "s = data['contract_valid_until']\n",
        "contract = s.copy()\n",
        "s = data['player_traits']\n",
        "traits = s.copy\n",
        "data.drop(columns =[], inplace =True)\n",
        "for i in range (0,4):\n",
        "  penampungan.append(data[col[i]])\n",
        "  data.drop(columns=[col[i]], inplace =True)\n",
        "penampungan.append(data['dob'])\n",
        "penampungan.append(data['work_rate'])\n",
        "penampungan.append(data['body_type'])\n",
        "penampungan.append(data['player_positions'])\n",
        "data.drop(columns=['work_rate','body_type','player_positions','dob', 'player_tags', 'loaned_from','joined','contract_valid_until','player_traits'], inplace =True)"
      ],
      "execution_count": 0,
      "outputs": []
    },
    {
      "cell_type": "code",
      "metadata": {
        "id": "p1GPV0C-Z7d7",
        "colab_type": "code",
        "colab": {}
      },
      "source": [
        "def split(word):\n",
        "  return [char for char in word]"
      ],
      "execution_count": 0,
      "outputs": []
    },
    {
      "cell_type": "markdown",
      "metadata": {
        "id": "PgbQtPDNunyn",
        "colab_type": "text"
      },
      "source": [
        "**Memperbaiki kolom dengan nilai yang memiliki (+)**"
      ]
    },
    {
      "cell_type": "code",
      "metadata": {
        "id": "X550usJ5Z8yj",
        "colab_type": "code",
        "outputId": "af53cdea-fc62-4b86-af85-e63caf779c04",
        "colab": {
          "base_uri": "https://localhost:8080/",
          "height": 562
        }
      },
      "source": [
        "col = data.columns\n",
        "point = []\n",
        "for j in range (65, 91):\n",
        "  print(j)\n",
        "  temp = data[col[j]]\n",
        "  nullval = data[col[j]].isnull()\n",
        "  for k in range (len(nullval)):\n",
        "    if (nullval[k] == False):\n",
        "      point.append(1)\n",
        "    elif (nullval[k] == True):\n",
        "      point.append(0)\n",
        "  for i in range (len(data[col[j]])):\n",
        "    if (point[i] == 1 ):\n",
        "      val = (split(temp[i]))\n",
        "      values = float(val[0] + val[1]) + float(val[3])\n",
        "      data[col[j]][i] = values\n",
        "    elif(point[i] == 0):\n",
        "      continue"
      ],
      "execution_count": 170,
      "outputs": [
        {
          "output_type": "stream",
          "text": [
            "65\n"
          ],
          "name": "stdout"
        },
        {
          "output_type": "stream",
          "text": [
            "/usr/local/lib/python3.6/dist-packages/ipykernel_launcher.py:16: SettingWithCopyWarning: \n",
            "A value is trying to be set on a copy of a slice from a DataFrame\n",
            "\n",
            "See the caveats in the documentation: https://pandas.pydata.org/pandas-docs/stable/user_guide/indexing.html#returning-a-view-versus-a-copy\n",
            "  app.launch_new_instance()\n"
          ],
          "name": "stderr"
        },
        {
          "output_type": "stream",
          "text": [
            "66\n",
            "67\n",
            "68\n",
            "69\n",
            "70\n",
            "71\n",
            "72\n",
            "73\n",
            "74\n",
            "75\n",
            "76\n",
            "77\n",
            "78\n",
            "79\n",
            "80\n",
            "81\n",
            "82\n",
            "83\n",
            "84\n",
            "85\n",
            "86\n",
            "87\n",
            "88\n",
            "89\n",
            "90\n"
          ],
          "name": "stdout"
        }
      ]
    },
    {
      "cell_type": "code",
      "metadata": {
        "id": "0VqwkZODZ9b0",
        "colab_type": "code",
        "outputId": "3bb69ae3-86bf-4bb0-b59b-4f4e1164432d",
        "colab": {
          "base_uri": "https://localhost:8080/",
          "height": 54
        }
      },
      "source": [
        "teampos = data['team_position'].dropna().unique()\n",
        "teamlist = teampos.tolist()\n",
        "print(teamlist)"
      ],
      "execution_count": 171,
      "outputs": [
        {
          "output_type": "stream",
          "text": [
            "['RW', 'LW', 'CAM', 'GK', 'RCM', 'LCB', 'ST', 'CDM', 'LDM', 'RM', 'RCB', 'LCM', 'LM', 'CF', 'SUB', 'LB', 'LS', 'RB', 'RDM', 'RES', 'RAM', 'RS', 'RF', 'CM', 'CB', 'LF', 'LAM', 'RWB', 'LWB']\n"
          ],
          "name": "stdout"
        }
      ]
    },
    {
      "cell_type": "markdown",
      "metadata": {
        "id": "xSdmMFJnCcRW",
        "colab_type": "text"
      },
      "source": [
        "Menduplikasi data untuk diperlakukan secara berbeda"
      ]
    },
    {
      "cell_type": "code",
      "metadata": {
        "id": "WmLtyKE_iFP5",
        "colab_type": "code",
        "colab": {}
      },
      "source": [
        "data2 = data.copy()"
      ],
      "execution_count": 0,
      "outputs": []
    },
    {
      "cell_type": "markdown",
      "metadata": {
        "id": "tkX0NbmNn5i5",
        "colab_type": "text"
      },
      "source": [
        "###DATA DENGAN 'SUB' AND 'RES' PADA TEAM POSITION"
      ]
    },
    {
      "cell_type": "code",
      "metadata": {
        "id": "uFwlZmxPC0Sg",
        "colab_type": "code",
        "colab": {}
      },
      "source": [
        "data2.dropna(subset=['team_position'],inplace=True)\n",
        "data2.reset_index(inplace = True) "
      ],
      "execution_count": 0,
      "outputs": []
    },
    {
      "cell_type": "code",
      "metadata": {
        "id": "cI2qJ4uRn-UI",
        "colab_type": "code",
        "outputId": "3127bd35-418f-4990-a1f6-989947204e30",
        "colab": {
          "base_uri": "https://localhost:8080/",
          "height": 105
        }
      },
      "source": [
        "for i in range(len(data2['team_position'])):\n",
        "  if data2['team_position'][i] in ['SUB','RES']:\n",
        "    data2['team_position'][i] = penampungan[-1][i].split(',')[0]"
      ],
      "execution_count": 102,
      "outputs": [
        {
          "output_type": "stream",
          "text": [
            "/usr/local/lib/python3.6/dist-packages/ipykernel_launcher.py:3: SettingWithCopyWarning: \n",
            "A value is trying to be set on a copy of a slice from a DataFrame\n",
            "\n",
            "See the caveats in the documentation: https://pandas.pydata.org/pandas-docs/stable/user_guide/indexing.html#returning-a-view-versus-a-copy\n",
            "  This is separate from the ipykernel package so we can avoid doing imports until\n"
          ],
          "name": "stderr"
        }
      ]
    },
    {
      "cell_type": "code",
      "metadata": {
        "id": "u_fu2o5Tqf5x",
        "colab_type": "code",
        "outputId": "b8c62f1f-1910-498f-b8ed-c87ffb1004ad",
        "colab": {
          "base_uri": "https://localhost:8080/",
          "height": 193
        }
      },
      "source": [
        "field_pos = {}\n",
        "data2['field_position'] = 0\n",
        "field_pos['Defender'] = ['CB', 'LB', 'LCB', 'LWB', 'RB', 'RCB', 'RWB','GK']\n",
        "field_pos['Midfielder'] = ['CAM', 'CDM', 'LCM', 'CM', 'LAM', 'LDM', 'LM', 'RAM', 'RCM', 'RDM', 'RM']\n",
        "field_pos['Forward'] = ['ST', 'CF', 'LF', 'LS', 'LW', 'RF', 'RS', 'RW']\n",
        "for i in range(len(data2['team_position'])):\n",
        "  for key,value in field_pos.items():\n",
        "    if data2['team_position'][i] in value:\n",
        "      data2['field_position'][i] = key\n",
        "      break"
      ],
      "execution_count": 103,
      "outputs": [
        {
          "output_type": "stream",
          "text": [
            "/usr/local/lib/python3.6/dist-packages/ipykernel_launcher.py:9: SettingWithCopyWarning: \n",
            "A value is trying to be set on a copy of a slice from a DataFrame\n",
            "\n",
            "See the caveats in the documentation: https://pandas.pydata.org/pandas-docs/stable/user_guide/indexing.html#returning-a-view-versus-a-copy\n",
            "  if __name__ == '__main__':\n",
            "/usr/local/lib/python3.6/dist-packages/pandas/core/indexing.py:671: SettingWithCopyWarning: \n",
            "A value is trying to be set on a copy of a slice from a DataFrame\n",
            "\n",
            "See the caveats in the documentation: https://pandas.pydata.org/pandas-docs/stable/user_guide/indexing.html#returning-a-view-versus-a-copy\n",
            "  self._setitem_with_indexer(indexer, value)\n"
          ],
          "name": "stderr"
        }
      ]
    },
    {
      "cell_type": "code",
      "metadata": {
        "id": "NIvqp2TJqj-3",
        "colab_type": "code",
        "outputId": "6e62563d-37a1-4e9c-afe7-6756cd52429b",
        "colab": {
          "base_uri": "https://localhost:8080/",
          "height": 34
        }
      },
      "source": [
        "print(data2['field_position'].unique())\n",
        "for x,y in zip(data2['field_position'],data2['team_position']): \n",
        "  if x not in ['Defender','Midfielder','Forward']:\n",
        "    print(f'{x} {y}')"
      ],
      "execution_count": 104,
      "outputs": [
        {
          "output_type": "stream",
          "text": [
            "['Forward' 'Midfielder' 'Defender']\n"
          ],
          "name": "stdout"
        }
      ]
    },
    {
      "cell_type": "code",
      "metadata": {
        "id": "V_d_PEQCqnMf",
        "colab_type": "code",
        "colab": {}
      },
      "source": [
        "int_to_fpos = data2['field_position'].unique()\n",
        "fpos_to_int = [{x:i} for i,x in enumerate(int_to_fpos)] "
      ],
      "execution_count": 0,
      "outputs": []
    },
    {
      "cell_type": "code",
      "metadata": {
        "id": "ShiU2Iyuqo1f",
        "colab_type": "code",
        "outputId": "84344dba-f7cd-4165-9ed6-6ce6e7e5860e",
        "colab": {
          "base_uri": "https://localhost:8080/",
          "height": 105
        }
      },
      "source": [
        "for x,y in data2['field_position'].iteritems():\n",
        "  for i in range(len(int_to_fpos)):\n",
        "    if y in int_to_fpos[i]:\n",
        "      data2['field_position'][x] = i\n",
        "      break "
      ],
      "execution_count": 106,
      "outputs": [
        {
          "output_type": "stream",
          "text": [
            "/usr/local/lib/python3.6/dist-packages/ipykernel_launcher.py:4: SettingWithCopyWarning: \n",
            "A value is trying to be set on a copy of a slice from a DataFrame\n",
            "\n",
            "See the caveats in the documentation: https://pandas.pydata.org/pandas-docs/stable/user_guide/indexing.html#returning-a-view-versus-a-copy\n",
            "  after removing the cwd from sys.path.\n"
          ],
          "name": "stderr"
        }
      ]
    },
    {
      "cell_type": "code",
      "metadata": {
        "id": "f-CnYeqJqsAn",
        "colab_type": "code",
        "outputId": "c9e61372-fbc6-4ef6-b492-4ba5e4c32882",
        "colab": {
          "base_uri": "https://localhost:8080/",
          "height": 210
        }
      },
      "source": [
        "col = data2.columns\n",
        "for i in range (len(data2.columns)):\n",
        "  res = isinstance(data2[col[i]][1], str)\n",
        "  if (res == True):\n",
        "    print(col[i])\n",
        "    temp = data2[col[i]].dropna().unique()\n",
        "    encd = temp.tolist()\n",
        "    for j in range(len(data2[col[i]])):\n",
        "      if (str(data2[col[i]][j]) != 'nan'):\n",
        "        data2[col[i]][j] = encd.index(data2[col[i]][j])"
      ],
      "execution_count": 107,
      "outputs": [
        {
          "output_type": "stream",
          "text": [
            "nationality\n"
          ],
          "name": "stdout"
        },
        {
          "output_type": "stream",
          "text": [
            "/usr/local/lib/python3.6/dist-packages/ipykernel_launcher.py:10: SettingWithCopyWarning: \n",
            "A value is trying to be set on a copy of a slice from a DataFrame\n",
            "\n",
            "See the caveats in the documentation: https://pandas.pydata.org/pandas-docs/stable/user_guide/indexing.html#returning-a-view-versus-a-copy\n",
            "  # Remove the CWD from sys.path while we load stuff.\n"
          ],
          "name": "stderr"
        },
        {
          "output_type": "stream",
          "text": [
            "club\n",
            "preferred_foot\n",
            "real_face\n",
            "team_position\n",
            "nation_position\n"
          ],
          "name": "stdout"
        }
      ]
    },
    {
      "cell_type": "code",
      "metadata": {
        "id": "20v4J24iquEH",
        "colab_type": "code",
        "colab": {}
      },
      "source": [
        "#replace median\n",
        "for i in range(len(data2.columns)):\n",
        "  median = data2[col[i]].median()\n",
        "  data2[col[i]].fillna(median, inplace=True)"
      ],
      "execution_count": 0,
      "outputs": []
    },
    {
      "cell_type": "code",
      "metadata": {
        "id": "nWbQeHbeqvye",
        "colab_type": "code",
        "colab": {}
      },
      "source": [
        "np_bersih = data2[['shooting', 'dribbling', 'passing', 'defending','physic', 'gk_diving', 'gk_handling', 'gk_kicking',\n",
        "       'gk_reflexes', 'gk_speed', 'gk_positioning', 'attacking_crossing',\n",
        "       'attacking_finishing', 'attacking_heading_accuracy',\n",
        "       'attacking_short_passing', 'attacking_volleys', 'skill_dribbling',\n",
        "       'skill_curve', 'skill_fk_accuracy', 'skill_long_passing','defending_marking', 'defending_standing_tackle',\n",
        "       'defending_sliding_tackle','goalkeeping_diving',\n",
        "       'goalkeeping_handling', 'goalkeeping_kicking',\n",
        "       'goalkeeping_positioning', 'goalkeeping_reflexes', 'ls', 'st', 'rs',\n",
        "       'lw', 'lf', 'cf', 'rf', 'rw', 'lam', 'cam', 'ram', 'lm', 'lcm', 'cm',\n",
        "       'rcm', 'rm', 'lwb', 'ldm', 'cdm', 'rdm', 'rwb', 'lb', 'lcb', 'cb',\n",
        "       'rcb', 'rb', 'field_position']].to_numpy()"
      ],
      "execution_count": 0,
      "outputs": []
    },
    {
      "cell_type": "code",
      "metadata": {
        "id": "u8d-mG09qy4X",
        "colab_type": "code",
        "outputId": "24a56a88-5582-4e9f-f676-e9e2950b6b5b",
        "colab": {
          "base_uri": "https://localhost:8080/",
          "height": 52
        }
      },
      "source": [
        "train, test = train_test_split(np_bersih, test_size=0.2)\n",
        "print(len(train), 'train examples')\n",
        "print(len(test), 'test examples')"
      ],
      "execution_count": 110,
      "outputs": [
        {
          "output_type": "stream",
          "text": [
            "14430 train examples\n",
            "3608 test examples\n"
          ],
          "name": "stdout"
        }
      ]
    },
    {
      "cell_type": "code",
      "metadata": {
        "id": "f7olWTumq2ZA",
        "colab_type": "code",
        "colab": {}
      },
      "source": [
        "train_data = np.copy(train)\n",
        "test_data = np.copy(test)\n",
        "y_train = train[:,-1]\n",
        "X_train = train_data[:,:-1]\n",
        "y_test = test[:,-1]\n",
        "x_test = test_data[:,:-1]\n",
        "y_train = y_train.astype(int)\n",
        "y_test = y_test.astype(int)\n",
        "y_train = y_train.astype(int)"
      ],
      "execution_count": 0,
      "outputs": []
    },
    {
      "cell_type": "markdown",
      "metadata": {
        "id": "iAIN7TILlCDC",
        "colab_type": "text"
      },
      "source": [
        "### DATA TANPA 'SUB' AND 'RES' PADA TEAM POSITION"
      ]
    },
    {
      "cell_type": "markdown",
      "metadata": {
        "id": "o-1TcF7svMKA",
        "colab_type": "text"
      },
      "source": [
        "**Drop Baris yang memiliki nilai team_position SUB dan RES**"
      ]
    },
    {
      "cell_type": "code",
      "metadata": {
        "id": "jSDOWdKVaAB6",
        "colab_type": "code",
        "colab": {}
      },
      "source": [
        "data.dropna(subset=['team_position'],inplace=True)\n",
        "data.drop(data.loc[data['team_position']=='SUB'].index, inplace=True)\n",
        "data.drop(data.loc[data['team_position']=='RES'].index, inplace=True)\n",
        "data.reset_index(inplace = True) "
      ],
      "execution_count": 0,
      "outputs": []
    },
    {
      "cell_type": "code",
      "metadata": {
        "id": "MzaBODEeXbya",
        "colab_type": "code",
        "outputId": "ef3383aa-edbc-4ef4-dcf8-a37b177a59fd",
        "colab": {
          "base_uri": "https://localhost:8080/",
          "height": 34
        }
      },
      "source": [
        "teampos = data['team_position'].unique()\n",
        "teamlist = teampos.tolist()\n",
        "print(teamlist)"
      ],
      "execution_count": 174,
      "outputs": [
        {
          "output_type": "stream",
          "text": [
            "['RW', 'LW', 'CAM', 'GK', 'RCM', 'LCB', 'ST', 'CDM', 'LDM', 'RM', 'RCB', 'LCM', 'LM', 'CF', 'LB', 'LS', 'RB', 'RDM', 'RAM', 'RS', 'RF', 'CM', 'CB', 'LF', 'LAM', 'RWB', 'LWB']\n"
          ],
          "name": "stdout"
        }
      ]
    },
    {
      "cell_type": "markdown",
      "metadata": {
        "id": "Pu7cLYPlvYiG",
        "colab_type": "text"
      },
      "source": [
        "**Mengelompokkan posisi pemain dan melabelinya dalam kolom baru (Manual Labeling)**"
      ]
    },
    {
      "cell_type": "code",
      "metadata": {
        "id": "o5c3QXoRXrT5",
        "colab_type": "code",
        "outputId": "39246fc5-1688-4644-97b7-98d9077539b4",
        "colab": {
          "base_uri": "https://localhost:8080/",
          "height": 193
        }
      },
      "source": [
        "field_pos = {}\n",
        "data['field_position'] = 0\n",
        "field_pos['Defender'] = ['CB', 'LB', 'LCB', 'LWB', 'RB', 'RCB', 'RWB','GK']\n",
        "field_pos['Midfielder'] = ['CAM', 'CDM', 'LCM', 'CM', 'LAM', 'LDM', 'LM', 'RAM', 'RCM', 'RDM', 'RM']\n",
        "field_pos['Forward'] = ['ST', 'CF', 'LF', 'LS', 'LW', 'RF', 'RS', 'RW']\n",
        "for i in range(len(data['team_position'])):\n",
        "  for key,value in field_pos.items():\n",
        "    if data['team_position'][i] in value:\n",
        "      data['field_position'][i] = key\n",
        "      break"
      ],
      "execution_count": 175,
      "outputs": [
        {
          "output_type": "stream",
          "text": [
            "/usr/local/lib/python3.6/dist-packages/ipykernel_launcher.py:9: SettingWithCopyWarning: \n",
            "A value is trying to be set on a copy of a slice from a DataFrame\n",
            "\n",
            "See the caveats in the documentation: https://pandas.pydata.org/pandas-docs/stable/user_guide/indexing.html#returning-a-view-versus-a-copy\n",
            "  if __name__ == '__main__':\n",
            "/usr/local/lib/python3.6/dist-packages/pandas/core/indexing.py:671: SettingWithCopyWarning: \n",
            "A value is trying to be set on a copy of a slice from a DataFrame\n",
            "\n",
            "See the caveats in the documentation: https://pandas.pydata.org/pandas-docs/stable/user_guide/indexing.html#returning-a-view-versus-a-copy\n",
            "  self._setitem_with_indexer(indexer, value)\n"
          ],
          "name": "stderr"
        }
      ]
    },
    {
      "cell_type": "code",
      "metadata": {
        "id": "Q2m__OLIXtq5",
        "colab_type": "code",
        "outputId": "fe1b79ef-0be6-4432-ae65-9ca89e2c28ce",
        "colab": {
          "base_uri": "https://localhost:8080/",
          "height": 34
        }
      },
      "source": [
        "print(data['field_position'].unique())\n",
        "for x,y in zip(data['field_position'],data['team_position']): \n",
        "  if x not in ['Defender','Midfielder','Forward']:\n",
        "    print(f'{x} {y}')"
      ],
      "execution_count": 176,
      "outputs": [
        {
          "output_type": "stream",
          "text": [
            "['Forward' 'Midfielder' 'Defender']\n"
          ],
          "name": "stdout"
        }
      ]
    },
    {
      "cell_type": "code",
      "metadata": {
        "id": "_gDnK6MGXvbB",
        "colab_type": "code",
        "colab": {}
      },
      "source": [
        "int_to_fpos = data['field_position'].unique()\n",
        "fpos_to_int = [{x:i} for i,x in enumerate(int_to_fpos)] "
      ],
      "execution_count": 0,
      "outputs": []
    },
    {
      "cell_type": "code",
      "metadata": {
        "id": "ArIdC0ZTXxDJ",
        "colab_type": "code",
        "outputId": "1b302b08-5983-46fa-f6be-e5967d2255ec",
        "colab": {
          "base_uri": "https://localhost:8080/",
          "height": 105
        }
      },
      "source": [
        "for x,y in data['field_position'].iteritems():\n",
        "  for i in range(len(int_to_fpos)):\n",
        "    if y in int_to_fpos[i]:\n",
        "      data['field_position'][x] = i\n",
        "      break "
      ],
      "execution_count": 178,
      "outputs": [
        {
          "output_type": "stream",
          "text": [
            "/usr/local/lib/python3.6/dist-packages/ipykernel_launcher.py:4: SettingWithCopyWarning: \n",
            "A value is trying to be set on a copy of a slice from a DataFrame\n",
            "\n",
            "See the caveats in the documentation: https://pandas.pydata.org/pandas-docs/stable/user_guide/indexing.html#returning-a-view-versus-a-copy\n",
            "  after removing the cwd from sys.path.\n"
          ],
          "name": "stderr"
        }
      ]
    },
    {
      "cell_type": "markdown",
      "metadata": {
        "id": "6Oe1d20zvj72",
        "colab_type": "text"
      },
      "source": [
        "**Melakukan encoding data yang berjenis String**"
      ]
    },
    {
      "cell_type": "code",
      "metadata": {
        "id": "ZBtwR-S4aBzr",
        "colab_type": "code",
        "outputId": "09d546af-4034-4ea2-e3cb-488a8800c443",
        "colab": {
          "base_uri": "https://localhost:8080/",
          "height": 210
        }
      },
      "source": [
        "col = data.columns\n",
        "for i in range (len(data.columns)):\n",
        "  res = isinstance(data[col[i]][1], str)\n",
        "  if (res == True):\n",
        "    print(col[i])\n",
        "    temp = data[col[i]].dropna().unique()\n",
        "    encd = temp.tolist()\n",
        "    for j in range(len(data[col[i]])):\n",
        "      if (str(data[col[i]][j]) != 'nan'):\n",
        "        data[col[i]][j] = encd.index(data[col[i]][j])"
      ],
      "execution_count": 179,
      "outputs": [
        {
          "output_type": "stream",
          "text": [
            "nationality\n"
          ],
          "name": "stdout"
        },
        {
          "output_type": "stream",
          "text": [
            "/usr/local/lib/python3.6/dist-packages/ipykernel_launcher.py:10: SettingWithCopyWarning: \n",
            "A value is trying to be set on a copy of a slice from a DataFrame\n",
            "\n",
            "See the caveats in the documentation: https://pandas.pydata.org/pandas-docs/stable/user_guide/indexing.html#returning-a-view-versus-a-copy\n",
            "  # Remove the CWD from sys.path while we load stuff.\n"
          ],
          "name": "stderr"
        },
        {
          "output_type": "stream",
          "text": [
            "club\n",
            "preferred_foot\n",
            "real_face\n",
            "team_position\n",
            "nation_position\n"
          ],
          "name": "stdout"
        }
      ]
    },
    {
      "cell_type": "markdown",
      "metadata": {
        "id": "IqvOJRtg5Yhp",
        "colab_type": "text"
      },
      "source": [
        "**Mengganti nilai 'NaN' dengan nilai median dari kolom**"
      ]
    },
    {
      "cell_type": "code",
      "metadata": {
        "id": "nw3q7YNpaDmQ",
        "colab_type": "code",
        "colab": {}
      },
      "source": [
        "#replace median\n",
        "for i in range(len(data.columns)):\n",
        "  median = data[col[i]].median()\n",
        "  data[col[i]].fillna(median, inplace=True)"
      ],
      "execution_count": 0,
      "outputs": []
    },
    {
      "cell_type": "code",
      "metadata": {
        "id": "mZb04lHkh9AW",
        "colab_type": "code",
        "colab": {}
      },
      "source": [
        "np_bersih = data[['shooting', 'dribbling', 'passing', 'defending','physic', 'gk_diving', 'gk_handling', 'gk_kicking',\n",
        "       'gk_reflexes', 'gk_speed', 'gk_positioning', 'attacking_crossing',\n",
        "       'attacking_finishing', 'attacking_heading_accuracy',\n",
        "       'attacking_short_passing', 'attacking_volleys', 'skill_dribbling',\n",
        "       'skill_curve', 'skill_fk_accuracy', 'skill_long_passing','defending_marking', 'defending_standing_tackle',\n",
        "       'defending_sliding_tackle','goalkeeping_diving',\n",
        "       'goalkeeping_handling', 'goalkeeping_kicking',\n",
        "       'goalkeeping_positioning', 'goalkeeping_reflexes', 'ls', 'st', 'rs',\n",
        "       'lw', 'lf', 'cf', 'rf', 'rw', 'lam', 'cam', 'ram', 'lm', 'lcm', 'cm',\n",
        "       'rcm', 'rm', 'lwb', 'ldm', 'cdm', 'rdm', 'rwb', 'lb', 'lcb', 'cb',\n",
        "       'rcb', 'rb', 'field_position']].to_numpy()"
      ],
      "execution_count": 0,
      "outputs": []
    },
    {
      "cell_type": "markdown",
      "metadata": {
        "id": "9Nf7ry9Q39Y4",
        "colab_type": "text"
      },
      "source": [
        "**Split data menjadi datatrain dan datatest**"
      ]
    },
    {
      "cell_type": "code",
      "metadata": {
        "id": "oxn94xmLaFD9",
        "colab_type": "code",
        "outputId": "1c933340-b16b-40e1-cdb4-bc4bf6f606e7",
        "colab": {
          "base_uri": "https://localhost:8080/",
          "height": 52
        }
      },
      "source": [
        "train, test = train_test_split(np_bersih, test_size=0.2)\n",
        "print(len(train), 'train examples')\n",
        "print(len(test), 'test examples')"
      ],
      "execution_count": 182,
      "outputs": [
        {
          "output_type": "stream",
          "text": [
            "5808 train examples\n",
            "1452 test examples\n"
          ],
          "name": "stdout"
        }
      ]
    },
    {
      "cell_type": "code",
      "metadata": {
        "id": "nM3tELdyz604",
        "colab_type": "code",
        "colab": {}
      },
      "source": [
        "train_data = np.copy(train)\n",
        "test_data = np.copy(test)\n",
        "y_train = train[:,-1]\n",
        "X_train = train_data[:,:-1]\n",
        "y_test = test[:,-1]\n",
        "x_test = test_data[:,:-1]\n",
        "y_train = y_train.astype(int)\n",
        "y_test = y_test.astype(int)\n",
        "y_train = y_train.astype(int)"
      ],
      "execution_count": 0,
      "outputs": []
    },
    {
      "cell_type": "markdown",
      "metadata": {
        "id": "xplFX4zGGcch",
        "colab_type": "text"
      },
      "source": [
        "## CLUSTERING"
      ]
    },
    {
      "cell_type": "markdown",
      "metadata": {
        "id": "87oOVPWvzn9o",
        "colab_type": "text"
      },
      "source": [
        "### K-MEANS CLUSTERING"
      ]
    },
    {
      "cell_type": "code",
      "metadata": {
        "id": "3kCz4x9tv1HE",
        "colab_type": "code",
        "colab": {}
      },
      "source": [
        "#untuk data tanpa SUB dan RES\n",
        "clust_train = data[['age','overall']].to_numpy()"
      ],
      "execution_count": 0,
      "outputs": []
    },
    {
      "cell_type": "code",
      "metadata": {
        "id": "8fsmZAXVVv5n",
        "colab_type": "code",
        "colab": {}
      },
      "source": [
        "#untuk data dengan SUB dan RES\n",
        "clust_train = data2[['age','overall']].to_numpy()"
      ],
      "execution_count": 0,
      "outputs": []
    },
    {
      "cell_type": "code",
      "metadata": {
        "id": "yVix0gad6D-m",
        "colab_type": "code",
        "colab": {}
      },
      "source": [
        "#untuk clustering dengan 54 kolom\n",
        "clust_train = X_train"
      ],
      "execution_count": 0,
      "outputs": []
    },
    {
      "cell_type": "code",
      "metadata": {
        "id": "fgpfrcLWuoZg",
        "colab_type": "code",
        "colab": {
          "base_uri": "https://localhost:8080/",
          "height": 140
        },
        "outputId": "d1f0a3ba-d995-44bd-952b-ad8ab53de7f9"
      },
      "source": [
        "print(clust_train)"
      ],
      "execution_count": 185,
      "outputs": [
        {
          "output_type": "stream",
          "text": [
            "[[32 94]\n",
            " [34 93]\n",
            " [27 92]\n",
            " ...\n",
            " [22 50]\n",
            " [17 49]\n",
            " [21 49]]\n"
          ],
          "name": "stdout"
        }
      ]
    },
    {
      "cell_type": "code",
      "metadata": {
        "id": "AugB5vd4zz6M",
        "colab_type": "code",
        "colab": {}
      },
      "source": [
        "n = clust_train.shape[0]\n",
        "c = clust_train.shape[1]\n",
        "std = np.std(clust_train, axis = 0)\n",
        "mean = np.mean(clust_train, axis = 0)"
      ],
      "execution_count": 0,
      "outputs": []
    },
    {
      "cell_type": "code",
      "metadata": {
        "id": "m9cet7uaVH1r",
        "colab_type": "code",
        "colab": {}
      },
      "source": [
        "K = 3"
      ],
      "execution_count": 0,
      "outputs": []
    },
    {
      "cell_type": "code",
      "metadata": {
        "id": "C2sn7sUD0A_-",
        "colab_type": "code",
        "colab": {}
      },
      "source": [
        "centroid = np.random.randn(K,c) * std + mean\n",
        "centroid0 = np.zeros(centroid.shape) \n",
        "centroid1 = deepcopy(centroid) \n",
        "space = np.zeros((n,K))\n",
        "clusters = np.zeros(n)\n",
        "max_iter = 100"
      ],
      "execution_count": 0,
      "outputs": []
    },
    {
      "cell_type": "code",
      "metadata": {
        "id": "wQ8d-nXN0IVA",
        "colab_type": "code",
        "colab": {}
      },
      "source": [
        "for centroids in range(max_iter):\n",
        "  for i in range(K):\n",
        "      space[:,i] = np.linalg.norm(clust_train - centroid1[i], axis=1)\n",
        "  clusters = np.argmin(space, axis = 1)\n",
        "  centroid0 = deepcopy(centroid1)\n",
        "  for i in range(K):\n",
        "      centroid1[i] = np.mean(clust_train[clusters == i], axis=0)\n",
        "  if centroid0[i].any == centroid1[i].any:\n",
        "    break\n",
        "  #iterasi berhenti saat salah satu nilai pada centroid1 dan centroid0 memiliki nilai yang sama"
      ],
      "execution_count": 0,
      "outputs": []
    },
    {
      "cell_type": "code",
      "metadata": {
        "id": "4aRAEZK_XNPK",
        "colab_type": "code",
        "outputId": "5c8222aa-2c9c-4100-881e-79d2f264a5c7",
        "colab": {
          "base_uri": "https://localhost:8080/",
          "height": 34
        }
      },
      "source": [
        "print(clusters)"
      ],
      "execution_count": 199,
      "outputs": [
        {
          "output_type": "stream",
          "text": [
            "[2 2 2 ... 1 1 1]\n"
          ],
          "name": "stdout"
        }
      ]
    },
    {
      "cell_type": "code",
      "metadata": {
        "id": "_TVHqedS0Mf2",
        "colab_type": "code",
        "outputId": "59e4fb57-2aae-4e74-fc47-2b5da1334c8b",
        "colab": {
          "base_uri": "https://localhost:8080/",
          "height": 282
        }
      },
      "source": [
        "colors=['red', 'blue', 'green']\n",
        "for i in range(n):\n",
        "    plt.scatter(clust_train[i, 0], clust_train[i,1], s=7, color = colors[int(clusters[i])])\n",
        "plt.scatter(centroid1[:,0], centroid1[:,1], marker='*', c='black', s=150)"
      ],
      "execution_count": 200,
      "outputs": [
        {
          "output_type": "execute_result",
          "data": {
            "text/plain": [
              "<matplotlib.collections.PathCollection at 0x7f7221a02908>"
            ]
          },
          "metadata": {
            "tags": []
          },
          "execution_count": 200
        },
        {
          "output_type": "display_data",
          "data": {
            "image/png": "[encoded data removed]",
            "text/plain": [
              "<Figure size 432x288 with 1 Axes>"
            ]
          },
          "metadata": {
            "tags": [],
            "needs_background": "light"
          }
        }
      ]
    },
    {
      "cell_type": "markdown",
      "metadata": {
        "id": "vBCn1DlHGoXQ",
        "colab_type": "text"
      },
      "source": [
        "## KLASIFIKASI"
      ]
    },
    {
      "cell_type": "markdown",
      "metadata": {
        "id": "53ziD0aHzdJ2",
        "colab_type": "text"
      },
      "source": [
        "### KLASIFIKASI MENGGUNAKAN ARTIFICIAL NEURAL NETWORK"
      ]
    },
    {
      "cell_type": "code",
      "metadata": {
        "id": "zB7mxfaRaT3E",
        "colab_type": "code",
        "outputId": "92964088-f99d-4e32-94f9-0e899ff25260",
        "colab": {
          "base_uri": "https://localhost:8080/",
          "height": 1000
        }
      },
      "source": [
        "from keras.optimizers import Adam\n",
        "\n",
        "train_labels = to_categorical(y_train)\n",
        "model = Sequential()\n",
        "\n",
        "model.add(Dense(10, input_shape=(X_train.shape[1],), activation='relu', name='fc1'))\n",
        "model.add(Dense(16, activation='relu', name='fc2'))\n",
        "model.add(Dense(16, activation='relu', name='fc3'))\n",
        "model.add(Dense(16, activation='relu', name='fc4'))\n",
        "model.add(Dense(16, activation='relu', name='fc5'))\n",
        "model.add(Dense(16, activation='relu', name='fc6'))\n",
        "model.add(Dense(16, activation='relu', name='fc7'))\n",
        "model.add(Dense(16, activation='relu', name='fc8'))\n",
        "model.add(Dense(16, activation='relu', name='fc9'))\n",
        "model.add(Dense(16, activation='relu', name='fc10'))\n",
        "model.add(Dense(16, activation='relu', name='fc11'))\n",
        "model.add(Dense(16, activation='relu', name='fc12'))\n",
        "model.add(Dense(16, activation='relu', name='fc13'))\n",
        "model.add(Dense(16, activation='relu', name='fc14'))\n",
        "model.add(Dense(16, activation='relu', name='fc15'))\n",
        "model.add(Dense(16, activation='relu', name='fc16'))\n",
        "model.add(Dense(16, activation='relu', name='fc17'))\n",
        "model.add(Dense(16, activation='relu', name='fc18'))\n",
        "model.add(Dense(16, activation='relu', name='fc19'))\n",
        "model.add(Dense(16, activation='relu', name='fc20'))\n",
        "model.add(Dense(16, activation='relu', name='fc21'))\n",
        "model.add(Dense(16, activation='relu', name='fc22'))\n",
        "model.add(Dense(3, activation='softmax', name='output'))\n",
        "\n",
        "optimizer = Adam(lr=0.001)\n",
        "model.compile(optimizer, loss='categorical_crossentropy', metrics=['accuracy'])\n",
        "\n",
        "print('Neural Network Model Summary: ')\n",
        "print(model.summary())\n",
        "\n",
        "model.fit(X_train, train_labels, verbose=2, batch_size=100, epochs=200)\n",
        "results = model.evaluate(x_test, to_categorical(y_test))\n",
        "\n",
        "print('Final test set loss: {:4f}'.format(results[0]))\n",
        "print('Final test set accuracy: {:4f}'.format(results[1]))"
      ],
      "execution_count": 150,
      "outputs": [
        {
          "output_type": "stream",
          "text": [
            "Neural Network Model Summary: \n",
            "Model: \"sequential_1\"\n",
            "_________________________________________________________________\n",
            "Layer (type)                 Output Shape              Param #   \n",
            "=================================================================\n",
            "fc1 (Dense)                  (None, 10)                550       \n",
            "_________________________________________________________________\n",
            "fc2 (Dense)                  (None, 16)                176       \n",
            "_________________________________________________________________\n",
            "fc3 (Dense)                  (None, 16)                272       \n",
            "_________________________________________________________________\n",
            "fc4 (Dense)                  (None, 16)                272       \n",
            "_________________________________________________________________\n",
            "fc5 (Dense)                  (None, 16)                272       \n",
            "_________________________________________________________________\n",
            "fc6 (Dense)                  (None, 16)                272       \n",
            "_________________________________________________________________\n",
            "fc7 (Dense)                  (None, 16)                272       \n",
            "_________________________________________________________________\n",
            "fc8 (Dense)                  (None, 16)                272       \n",
            "_________________________________________________________________\n",
            "fc9 (Dense)                  (None, 16)                272       \n",
            "_________________________________________________________________\n",
            "fc10 (Dense)                 (None, 16)                272       \n",
            "_________________________________________________________________\n",
            "fc11 (Dense)                 (None, 16)                272       \n",
            "_________________________________________________________________\n",
            "fc12 (Dense)                 (None, 16)                272       \n",
            "_________________________________________________________________\n",
            "fc13 (Dense)                 (None, 16)                272       \n",
            "_________________________________________________________________\n",
            "fc14 (Dense)                 (None, 16)                272       \n",
            "_________________________________________________________________\n",
            "fc15 (Dense)                 (None, 16)                272       \n",
            "_________________________________________________________________\n",
            "fc16 (Dense)                 (None, 16)                272       \n",
            "_________________________________________________________________\n",
            "fc17 (Dense)                 (None, 16)                272       \n",
            "_________________________________________________________________\n",
            "fc18 (Dense)                 (None, 16)                272       \n",
            "_________________________________________________________________\n",
            "fc19 (Dense)                 (None, 16)                272       \n",
            "_________________________________________________________________\n",
            "fc20 (Dense)                 (None, 16)                272       \n",
            "_________________________________________________________________\n",
            "fc21 (Dense)                 (None, 16)                272       \n",
            "_________________________________________________________________\n",
            "fc22 (Dense)                 (None, 16)                272       \n",
            "_________________________________________________________________\n",
            "output (Dense)               (None, 3)                 51        \n",
            "=================================================================\n",
            "Total params: 6,217\n",
            "Trainable params: 6,217\n",
            "Non-trainable params: 0\n",
            "_________________________________________________________________\n",
            "None\n",
            "Epoch 1/200\n",
            " - 1s - loss: 0.9744 - accuracy: 0.4642\n",
            "Epoch 2/200\n",
            " - 0s - loss: 0.6886 - accuracy: 0.6785\n",
            "Epoch 3/200\n",
            " - 0s - loss: 0.5423 - accuracy: 0.7199\n",
            "Epoch 4/200\n",
            " - 0s - loss: 0.4857 - accuracy: 0.7791\n",
            "Epoch 5/200\n",
            " - 0s - loss: 0.4553 - accuracy: 0.7989\n",
            "Epoch 6/200\n",
            " - 0s - loss: 0.4394 - accuracy: 0.8087\n",
            "Epoch 7/200\n",
            " - 0s - loss: 0.4301 - accuracy: 0.8197\n",
            "Epoch 8/200\n",
            " - 0s - loss: 0.4280 - accuracy: 0.8171\n",
            "Epoch 9/200\n",
            " - 0s - loss: 0.4065 - accuracy: 0.8297\n",
            "Epoch 10/200\n",
            " - 0s - loss: 0.4011 - accuracy: 0.8306\n",
            "Epoch 11/200\n",
            " - 0s - loss: 0.4145 - accuracy: 0.8240\n",
            "Epoch 12/200\n",
            " - 0s - loss: 0.3971 - accuracy: 0.8380\n",
            "Epoch 13/200\n",
            " - 0s - loss: 0.3997 - accuracy: 0.8302\n",
            "Epoch 14/200\n",
            " - 0s - loss: 0.4010 - accuracy: 0.8326\n",
            "Epoch 15/200\n",
            " - 0s - loss: 0.3902 - accuracy: 0.8390\n",
            "Epoch 16/200\n",
            " - 0s - loss: 0.3996 - accuracy: 0.8385\n",
            "Epoch 17/200\n",
            " - 0s - loss: 0.3940 - accuracy: 0.8349\n",
            "Epoch 18/200\n",
            " - 0s - loss: 0.3788 - accuracy: 0.8418\n",
            "Epoch 19/200\n",
            " - 0s - loss: 0.3875 - accuracy: 0.8414\n",
            "Epoch 20/200\n",
            " - 0s - loss: 0.3663 - accuracy: 0.8549\n",
            "Epoch 21/200\n",
            " - 0s - loss: 0.4042 - accuracy: 0.8295\n",
            "Epoch 22/200\n",
            " - 0s - loss: 0.3645 - accuracy: 0.8567\n",
            "Epoch 23/200\n",
            " - 0s - loss: 0.3593 - accuracy: 0.8561\n",
            "Epoch 24/200\n",
            " - 0s - loss: 0.3933 - accuracy: 0.8380\n",
            "Epoch 25/200\n",
            " - 0s - loss: 0.3609 - accuracy: 0.8566\n",
            "Epoch 26/200\n",
            " - 0s - loss: 0.3751 - accuracy: 0.8450\n",
            "Epoch 27/200\n",
            " - 0s - loss: 0.3646 - accuracy: 0.8554\n",
            "Epoch 28/200\n",
            " - 0s - loss: 0.3933 - accuracy: 0.8387\n",
            "Epoch 29/200\n",
            " - 0s - loss: 0.3677 - accuracy: 0.8542\n",
            "Epoch 30/200\n",
            " - 0s - loss: 0.3845 - accuracy: 0.8423\n",
            "Epoch 31/200\n",
            " - 0s - loss: 0.3561 - accuracy: 0.8549\n",
            "Epoch 32/200\n",
            " - 0s - loss: 0.3485 - accuracy: 0.8621\n",
            "Epoch 33/200\n",
            " - 0s - loss: 0.3482 - accuracy: 0.8574\n",
            "Epoch 34/200\n",
            " - 0s - loss: 0.3484 - accuracy: 0.8621\n",
            "Epoch 35/200\n",
            " - 0s - loss: 0.3586 - accuracy: 0.8538\n",
            "Epoch 36/200\n",
            " - 0s - loss: 0.3443 - accuracy: 0.8600\n",
            "Epoch 37/200\n",
            " - 0s - loss: 0.3461 - accuracy: 0.8629\n",
            "Epoch 38/200\n",
            " - 0s - loss: 0.3495 - accuracy: 0.8602\n",
            "Epoch 39/200\n",
            " - 0s - loss: 0.3553 - accuracy: 0.8550\n",
            "Epoch 40/200\n",
            " - 0s - loss: 0.3804 - accuracy: 0.8495\n",
            "Epoch 41/200\n",
            " - 0s - loss: 0.3544 - accuracy: 0.8605\n",
            "Epoch 42/200\n",
            " - 0s - loss: 0.3605 - accuracy: 0.8545\n",
            "Epoch 43/200\n",
            " - 0s - loss: 0.3616 - accuracy: 0.8526\n",
            "Epoch 44/200\n",
            " - 0s - loss: 0.3424 - accuracy: 0.8633\n",
            "Epoch 45/200\n",
            " - 0s - loss: 0.3398 - accuracy: 0.8674\n",
            "Epoch 46/200\n",
            " - 0s - loss: 0.3496 - accuracy: 0.8567\n",
            "Epoch 47/200\n",
            " - 0s - loss: 0.3529 - accuracy: 0.8588\n",
            "Epoch 48/200\n",
            " - 0s - loss: 0.3373 - accuracy: 0.8686\n",
            "Epoch 49/200\n",
            " - 0s - loss: 0.3729 - accuracy: 0.8461\n",
            "Epoch 50/200\n",
            " - 0s - loss: 0.3475 - accuracy: 0.8623\n",
            "Epoch 51/200\n",
            " - 0s - loss: 0.3421 - accuracy: 0.8667\n",
            "Epoch 52/200\n",
            " - 0s - loss: 0.3532 - accuracy: 0.8549\n",
            "Epoch 53/200\n",
            " - 0s - loss: 0.3650 - accuracy: 0.8519\n",
            "Epoch 54/200\n",
            " - 0s - loss: 0.3451 - accuracy: 0.8619\n",
            "Epoch 55/200\n",
            " - 0s - loss: 0.3364 - accuracy: 0.8655\n",
            "Epoch 56/200\n",
            " - 0s - loss: 0.3386 - accuracy: 0.8667\n",
            "Epoch 57/200\n",
            " - 0s - loss: 0.3336 - accuracy: 0.8669\n",
            "Epoch 58/200\n",
            " - 0s - loss: 0.3703 - accuracy: 0.8475\n",
            "Epoch 59/200\n",
            " - 0s - loss: 0.3411 - accuracy: 0.8678\n",
            "Epoch 60/200\n",
            " - 0s - loss: 0.3483 - accuracy: 0.8590\n",
            "Epoch 61/200\n",
            " - 0s - loss: 0.3387 - accuracy: 0.8662\n",
            "Epoch 62/200\n",
            " - 0s - loss: 0.3593 - accuracy: 0.8537\n",
            "Epoch 63/200\n",
            " - 0s - loss: 0.3374 - accuracy: 0.8669\n",
            "Epoch 64/200\n",
            " - 0s - loss: 0.3476 - accuracy: 0.8647\n",
            "Epoch 65/200\n",
            " - 0s - loss: 0.3412 - accuracy: 0.8660\n",
            "Epoch 66/200\n",
            " - 0s - loss: 0.3302 - accuracy: 0.8695\n",
            "Epoch 67/200\n",
            " - 0s - loss: 0.3463 - accuracy: 0.8607\n",
            "Epoch 68/200\n",
            " - 0s - loss: 0.3426 - accuracy: 0.8619\n",
            "Epoch 69/200\n",
            " - 0s - loss: 0.3378 - accuracy: 0.8648\n",
            "Epoch 70/200\n",
            " - 0s - loss: 0.3303 - accuracy: 0.8697\n",
            "Epoch 71/200\n",
            " - 0s - loss: 0.3285 - accuracy: 0.8679\n",
            "Epoch 72/200\n",
            " - 0s - loss: 0.3518 - accuracy: 0.8573\n",
            "Epoch 73/200\n",
            " - 0s - loss: 0.3357 - accuracy: 0.8674\n",
            "Epoch 74/200\n",
            " - 0s - loss: 0.3320 - accuracy: 0.8655\n",
            "Epoch 75/200\n",
            " - 0s - loss: 0.3484 - accuracy: 0.8578\n",
            "Epoch 76/200\n",
            " - 0s - loss: 0.3254 - accuracy: 0.8712\n",
            "Epoch 77/200\n",
            " - 0s - loss: 0.3296 - accuracy: 0.8678\n",
            "Epoch 78/200\n",
            " - 0s - loss: 0.3480 - accuracy: 0.8595\n",
            "Epoch 79/200\n",
            " - 0s - loss: 0.3358 - accuracy: 0.8666\n",
            "Epoch 80/200\n",
            " - 0s - loss: 0.3359 - accuracy: 0.8673\n",
            "Epoch 81/200\n",
            " - 0s - loss: 0.3261 - accuracy: 0.8693\n",
            "Epoch 82/200\n",
            " - 0s - loss: 0.3309 - accuracy: 0.8635\n",
            "Epoch 83/200\n",
            " - 0s - loss: 0.3261 - accuracy: 0.8710\n",
            "Epoch 84/200\n",
            " - 0s - loss: 0.3239 - accuracy: 0.8717\n",
            "Epoch 85/200\n",
            " - 0s - loss: 0.3290 - accuracy: 0.8659\n",
            "Epoch 86/200\n",
            " - 0s - loss: 0.3214 - accuracy: 0.8728\n",
            "Epoch 87/200\n",
            " - 0s - loss: 0.3371 - accuracy: 0.8642\n",
            "Epoch 88/200\n",
            " - 0s - loss: 0.3273 - accuracy: 0.8660\n",
            "Epoch 89/200\n",
            " - 0s - loss: 0.3275 - accuracy: 0.8679\n",
            "Epoch 90/200\n",
            " - 0s - loss: 0.3246 - accuracy: 0.8685\n",
            "Epoch 91/200\n",
            " - 0s - loss: 0.3288 - accuracy: 0.8683\n",
            "Epoch 92/200\n",
            " - 0s - loss: 0.3396 - accuracy: 0.8697\n",
            "Epoch 93/200\n",
            " - 0s - loss: 0.3230 - accuracy: 0.8740\n",
            "Epoch 94/200\n",
            " - 0s - loss: 0.3296 - accuracy: 0.8691\n",
            "Epoch 95/200\n",
            " - 0s - loss: 0.3238 - accuracy: 0.8729\n",
            "Epoch 96/200\n",
            " - 0s - loss: 0.3363 - accuracy: 0.8671\n",
            "Epoch 97/200\n",
            " - 0s - loss: 0.3198 - accuracy: 0.8728\n",
            "Epoch 98/200\n",
            " - 0s - loss: 0.3260 - accuracy: 0.8719\n",
            "Epoch 99/200\n",
            " - 0s - loss: 0.3416 - accuracy: 0.8655\n",
            "Epoch 100/200\n",
            " - 0s - loss: 0.3285 - accuracy: 0.8664\n",
            "Epoch 101/200\n",
            " - 0s - loss: 0.3275 - accuracy: 0.8700\n",
            "Epoch 102/200\n",
            " - 0s - loss: 0.3313 - accuracy: 0.8685\n",
            "Epoch 103/200\n",
            " - 0s - loss: 0.3269 - accuracy: 0.8702\n",
            "Epoch 104/200\n",
            " - 0s - loss: 0.3258 - accuracy: 0.8704\n",
            "Epoch 105/200\n",
            " - 0s - loss: 0.3283 - accuracy: 0.8683\n",
            "Epoch 106/200\n",
            " - 0s - loss: 0.3367 - accuracy: 0.8643\n",
            "Epoch 107/200\n",
            " - 0s - loss: 0.3373 - accuracy: 0.8681\n",
            "Epoch 108/200\n",
            " - 0s - loss: 0.3228 - accuracy: 0.8702\n",
            "Epoch 109/200\n",
            " - 0s - loss: 0.3298 - accuracy: 0.8667\n",
            "Epoch 110/200\n",
            " - 0s - loss: 0.3291 - accuracy: 0.8698\n",
            "Epoch 111/200\n",
            " - 0s - loss: 0.3183 - accuracy: 0.8707\n",
            "Epoch 112/200\n",
            " - 0s - loss: 0.3363 - accuracy: 0.8623\n",
            "Epoch 113/200\n",
            " - 0s - loss: 0.3568 - accuracy: 0.8533\n",
            "Epoch 114/200\n",
            " - 0s - loss: 0.3320 - accuracy: 0.8662\n",
            "Epoch 115/200\n",
            " - 0s - loss: 0.3204 - accuracy: 0.8753\n",
            "Epoch 116/200\n",
            " - 0s - loss: 0.3197 - accuracy: 0.8724\n",
            "Epoch 117/200\n",
            " - 0s - loss: 0.3275 - accuracy: 0.8679\n",
            "Epoch 118/200\n",
            " - 0s - loss: 0.3244 - accuracy: 0.8731\n",
            "Epoch 119/200\n",
            " - 0s - loss: 0.3200 - accuracy: 0.8705\n",
            "Epoch 120/200\n",
            " - 0s - loss: 0.3207 - accuracy: 0.8728\n",
            "Epoch 121/200\n",
            " - 0s - loss: 0.3461 - accuracy: 0.8600\n",
            "Epoch 122/200\n",
            " - 0s - loss: 0.3323 - accuracy: 0.8669\n",
            "Epoch 123/200\n",
            " - 0s - loss: 0.3305 - accuracy: 0.8678\n",
            "Epoch 124/200\n",
            " - 0s - loss: 0.3213 - accuracy: 0.8716\n",
            "Epoch 125/200\n",
            " - 0s - loss: 0.3363 - accuracy: 0.8609\n",
            "Epoch 126/200\n",
            " - 0s - loss: 0.3353 - accuracy: 0.8612\n",
            "Epoch 127/200\n",
            " - 0s - loss: 0.3183 - accuracy: 0.8776\n",
            "Epoch 128/200\n",
            " - 0s - loss: 0.3178 - accuracy: 0.8740\n",
            "Epoch 129/200\n",
            " - 0s - loss: 0.3225 - accuracy: 0.8702\n",
            "Epoch 130/200\n",
            " - 0s - loss: 0.3260 - accuracy: 0.8740\n",
            "Epoch 131/200\n",
            " - 0s - loss: 0.3258 - accuracy: 0.8695\n",
            "Epoch 132/200\n",
            " - 0s - loss: 0.3222 - accuracy: 0.8709\n",
            "Epoch 133/200\n",
            " - 0s - loss: 0.3344 - accuracy: 0.8643\n",
            "Epoch 134/200\n",
            " - 0s - loss: 0.3270 - accuracy: 0.8722\n",
            "Epoch 135/200\n",
            " - 0s - loss: 0.3310 - accuracy: 0.8679\n",
            "Epoch 136/200\n",
            " - 0s - loss: 0.3173 - accuracy: 0.8755\n",
            "Epoch 137/200\n",
            " - 0s - loss: 0.3259 - accuracy: 0.8685\n",
            "Epoch 138/200\n",
            " - 0s - loss: 0.3192 - accuracy: 0.8719\n",
            "Epoch 139/200\n",
            " - 0s - loss: 0.3344 - accuracy: 0.8631\n",
            "Epoch 140/200\n",
            " - 0s - loss: 0.3167 - accuracy: 0.8738\n",
            "Epoch 141/200\n",
            " - 0s - loss: 0.3130 - accuracy: 0.8740\n",
            "Epoch 142/200\n",
            " - 0s - loss: 0.3271 - accuracy: 0.8700\n",
            "Epoch 143/200\n",
            " - 0s - loss: 0.3213 - accuracy: 0.8707\n",
            "Epoch 144/200\n",
            " - 0s - loss: 0.3151 - accuracy: 0.8728\n",
            "Epoch 145/200\n",
            " - 0s - loss: 0.3191 - accuracy: 0.8721\n",
            "Epoch 146/200\n",
            " - 0s - loss: 0.3253 - accuracy: 0.8702\n",
            "Epoch 147/200\n",
            " - 0s - loss: 0.3215 - accuracy: 0.8707\n",
            "Epoch 148/200\n",
            " - 0s - loss: 0.3376 - accuracy: 0.8631\n",
            "Epoch 149/200\n",
            " - 0s - loss: 0.3159 - accuracy: 0.8722\n",
            "Epoch 150/200\n",
            " - 0s - loss: 0.3193 - accuracy: 0.8707\n",
            "Epoch 151/200\n",
            " - 0s - loss: 0.3181 - accuracy: 0.8700\n",
            "Epoch 152/200\n",
            " - 0s - loss: 0.3253 - accuracy: 0.8702\n",
            "Epoch 153/200\n",
            " - 0s - loss: 0.3262 - accuracy: 0.8705\n",
            "Epoch 154/200\n",
            " - 0s - loss: 0.3274 - accuracy: 0.8671\n",
            "Epoch 155/200\n",
            " - 0s - loss: 0.3264 - accuracy: 0.8673\n",
            "Epoch 156/200\n",
            " - 0s - loss: 0.3158 - accuracy: 0.8724\n",
            "Epoch 157/200\n",
            " - 0s - loss: 0.3117 - accuracy: 0.8769\n",
            "Epoch 158/200\n",
            " - 0s - loss: 0.3211 - accuracy: 0.8716\n",
            "Epoch 159/200\n",
            " - 0s - loss: 0.3308 - accuracy: 0.8638\n",
            "Epoch 160/200\n",
            " - 0s - loss: 0.3225 - accuracy: 0.8741\n",
            "Epoch 161/200\n",
            " - 0s - loss: 0.3138 - accuracy: 0.8745\n",
            "Epoch 162/200\n",
            " - 0s - loss: 0.3181 - accuracy: 0.8759\n",
            "Epoch 163/200\n",
            " - 0s - loss: 0.3271 - accuracy: 0.8717\n",
            "Epoch 164/200\n",
            " - 0s - loss: 0.3300 - accuracy: 0.8657\n",
            "Epoch 165/200\n",
            " - 0s - loss: 0.3128 - accuracy: 0.8759\n",
            "Epoch 166/200\n",
            " - 0s - loss: 0.3149 - accuracy: 0.8741\n",
            "Epoch 167/200\n",
            " - 0s - loss: 0.3223 - accuracy: 0.8695\n",
            "Epoch 168/200\n",
            " - 0s - loss: 0.3223 - accuracy: 0.8733\n",
            "Epoch 169/200\n",
            " - 0s - loss: 0.3166 - accuracy: 0.8755\n",
            "Epoch 170/200\n",
            " - 0s - loss: 0.3242 - accuracy: 0.8724\n",
            "Epoch 171/200\n",
            " - 0s - loss: 0.3182 - accuracy: 0.8740\n",
            "Epoch 172/200\n",
            " - 0s - loss: 0.3222 - accuracy: 0.8671\n",
            "Epoch 173/200\n",
            " - 0s - loss: 0.3143 - accuracy: 0.8757\n",
            "Epoch 174/200\n",
            " - 0s - loss: 0.3454 - accuracy: 0.8619\n",
            "Epoch 175/200\n",
            " - 0s - loss: 0.3163 - accuracy: 0.8762\n",
            "Epoch 176/200\n",
            " - 0s - loss: 0.3116 - accuracy: 0.8793\n",
            "Epoch 177/200\n",
            " - 0s - loss: 0.3125 - accuracy: 0.8753\n",
            "Epoch 178/200\n",
            " - 0s - loss: 0.3193 - accuracy: 0.8724\n",
            "Epoch 179/200\n",
            " - 0s - loss: 0.3133 - accuracy: 0.8728\n",
            "Epoch 180/200\n",
            " - 0s - loss: 0.3286 - accuracy: 0.8681\n",
            "Epoch 181/200\n",
            " - 0s - loss: 0.3102 - accuracy: 0.8745\n",
            "Epoch 182/200\n",
            " - 0s - loss: 0.3115 - accuracy: 0.8771\n",
            "Epoch 183/200\n",
            " - 0s - loss: 0.3160 - accuracy: 0.8726\n",
            "Epoch 184/200\n",
            " - 0s - loss: 0.3196 - accuracy: 0.8736\n",
            "Epoch 185/200\n",
            " - 0s - loss: 0.3177 - accuracy: 0.8753\n",
            "Epoch 186/200\n",
            " - 0s - loss: 0.3160 - accuracy: 0.8738\n",
            "Epoch 187/200\n",
            " - 0s - loss: 0.3269 - accuracy: 0.8697\n",
            "Epoch 188/200\n",
            " - 0s - loss: 0.3166 - accuracy: 0.8750\n",
            "Epoch 189/200\n",
            " - 0s - loss: 0.3365 - accuracy: 0.8681\n",
            "Epoch 190/200\n",
            " - 0s - loss: 0.3214 - accuracy: 0.8686\n",
            "Epoch 191/200\n",
            " - 0s - loss: 0.3122 - accuracy: 0.8750\n",
            "Epoch 192/200\n",
            " - 0s - loss: 0.3163 - accuracy: 0.8724\n",
            "Epoch 193/200\n",
            " - 0s - loss: 0.3150 - accuracy: 0.8728\n",
            "Epoch 194/200\n",
            " - 0s - loss: 0.3129 - accuracy: 0.8769\n",
            "Epoch 195/200\n",
            " - 0s - loss: 0.3240 - accuracy: 0.8697\n",
            "Epoch 196/200\n",
            " - 0s - loss: 0.3193 - accuracy: 0.8729\n",
            "Epoch 197/200\n",
            " - 0s - loss: 0.3080 - accuracy: 0.8759\n",
            "Epoch 198/200\n",
            " - 0s - loss: 0.3116 - accuracy: 0.8779\n",
            "Epoch 199/200\n",
            " - 0s - loss: 0.3206 - accuracy: 0.8717\n",
            "Epoch 200/200\n",
            " - 0s - loss: 0.3099 - accuracy: 0.8776\n",
            "1452/1452 [==============================] - 0s 53us/step\n",
            "Final test set loss: 0.359617\n",
            "Final test set accuracy: 0.852617\n"
          ],
          "name": "stdout"
        }
      ]
    },
    {
      "cell_type": "code",
      "metadata": {
        "id": "eVWPGsqEavkb",
        "colab_type": "code",
        "colab": {}
      },
      "source": [
        "from sklearn.neural_network import MLPClassifier\n",
        "def accuracy(confusion_matrix):\n",
        "   diagonal_sum = confusion_matrix.trace()\n",
        "   sum_of_all_elements = confusion_matrix.sum()\n",
        "   return diagonal_sum / sum_of_all_elements"
      ],
      "execution_count": 0,
      "outputs": []
    },
    {
      "cell_type": "code",
      "metadata": {
        "id": "nIU0QXsgbCZy",
        "colab_type": "code",
        "outputId": "b0927321-b819-400a-b989-d9f50cc13ddc",
        "colab": {
          "base_uri": "https://localhost:8080/",
          "height": 122
        }
      },
      "source": [
        "MLP = MLPClassifier(solver='lbfgs', alpha=1e-5,\n",
        "                    hidden_layer_sizes=(20, 15), random_state=1)\n",
        "MLP.fit(X_train, y_train)\n",
        "y_pred = MLP.predict(x_test)"
      ],
      "execution_count": 152,
      "outputs": [
        {
          "output_type": "stream",
          "text": [
            "/usr/local/lib/python3.6/dist-packages/sklearn/neural_network/_multilayer_perceptron.py:470: ConvergenceWarning: lbfgs failed to converge (status=1):\n",
            "STOP: TOTAL NO. of ITERATIONS REACHED LIMIT.\n",
            "\n",
            "Increase the number of iterations (max_iter) or scale the data as shown in:\n",
            "    https://scikit-learn.org/stable/modules/preprocessing.html\n",
            "  self.n_iter_ = _check_optimize_result(\"lbfgs\", opt_res, self.max_iter)\n"
          ],
          "name": "stderr"
        }
      ]
    },
    {
      "cell_type": "code",
      "metadata": {
        "id": "1TAb8t6ocMRw",
        "colab_type": "code",
        "outputId": "3444b9bd-462d-4330-c8b7-ce6b105d12bd",
        "colab": {
          "base_uri": "https://localhost:8080/",
          "height": 34
        }
      },
      "source": [
        "from sklearn.metrics import confusion_matrix\n",
        "cm = confusion_matrix(y_pred, y_test)\n",
        "print(f\"Accuracy of MLPClassifier :\", accuracy(cm))"
      ],
      "execution_count": 153,
      "outputs": [
        {
          "output_type": "stream",
          "text": [
            "Accuracy of MLPClassifier : 0.8691460055096418\n"
          ],
          "name": "stdout"
        }
      ]
    },
    {
      "cell_type": "markdown",
      "metadata": {
        "id": "vkUjZT9BxdmN",
        "colab_type": "text"
      },
      "source": [
        "### KLASIFIKASI MENGGUNAKAN K-NEAREST NEIGHBOR"
      ]
    },
    {
      "cell_type": "code",
      "metadata": {
        "id": "Jb-Mu-vgdbaw",
        "colab_type": "code",
        "colab": {}
      },
      "source": [
        "def scoring(clf,X_train,y_train,X_test,y_test):\n",
        "    clf = clf.fit(X_train, y_train)\n",
        "    preds = clf.predict(X_test)\n",
        "    cf = confusion_matrix(y_test,preds)\n",
        "    print(\" Accuracy: \",accuracy_score(y_test, preds))\n",
        "    print(\" F1 score: \",metrics.f1_score(y_test, preds,average='weighted'))"
      ],
      "execution_count": 0,
      "outputs": []
    },
    {
      "cell_type": "code",
      "metadata": {
        "id": "2HXlSvlRxlOg",
        "colab_type": "code",
        "outputId": "51a97907-553c-404e-ee67-399b3b486d70",
        "colab": {
          "base_uri": "https://localhost:8080/",
          "height": 52
        }
      },
      "source": [
        "knn_model = KNeighborsClassifier()\n",
        "param_grid = {'n_neighbors': np.arange(1, 25)}\n",
        "KNN = GridSearchCV(knn_model, param_grid, cv=5)\n",
        "scoring(KNN,X_train,y_train,x_test,y_test)"
      ],
      "execution_count": 202,
      "outputs": [
        {
          "output_type": "stream",
          "text": [
            " Accuracy:  0.8567493112947658\n",
            " F1 score:  0.85613855861867\n"
          ],
          "name": "stdout"
        }
      ]
    },
    {
      "cell_type": "markdown",
      "metadata": {
        "id": "Ym_oL_ApT5ai",
        "colab_type": "text"
      },
      "source": [
        "### KLASIFIKASI MENGGUNAKAN SUPPORT VECTOR MACHINE"
      ]
    },
    {
      "cell_type": "code",
      "metadata": {
        "id": "m5PdsSMzRP27",
        "colab_type": "code",
        "outputId": "ca10e5f3-f5cf-4f0e-cefd-25b2f1c33b29",
        "colab": {
          "base_uri": "https://localhost:8080/",
          "height": 52
        }
      },
      "source": [
        "SVM = SVC(kernel='linear', C=1)\n",
        "scoring(SVM,X_train,y_train,x_test,y_test)"
      ],
      "execution_count": 203,
      "outputs": [
        {
          "output_type": "stream",
          "text": [
            " Accuracy:  0.8539944903581267\n",
            " F1 score:  0.8535135298814741\n"
          ],
          "name": "stdout"
        }
      ]
    },
    {
      "cell_type": "markdown",
      "metadata": {
        "id": "b33CjX6Wzzhu",
        "colab_type": "text"
      },
      "source": [
        "### KLASIFIKASI MENGGUNAKAN RANDOM FOREST"
      ]
    },
    {
      "cell_type": "code",
      "metadata": {
        "id": "ir54DTFV0Ttw",
        "colab_type": "code",
        "outputId": "d198c146-2fa2-43b1-da04-2ffcc01a0f7e",
        "colab": {
          "base_uri": "https://localhost:8080/",
          "height": 52
        }
      },
      "source": [
        "gridsearch_forest = RandomForestClassifier()\n",
        "params = {\n",
        "    \"n_estimators\": [1, 10, 100],\n",
        "    \"max_depth\": [6,9,16], \n",
        "    \"min_samples_leaf\" : [1, 2, 4]\n",
        "}\n",
        "RF = GridSearchCV(gridsearch_forest, param_grid=params, cv=5 )\n",
        "scoring(RF,X_train,y_train,x_test,y_test)"
      ],
      "execution_count": 204,
      "outputs": [
        {
          "output_type": "stream",
          "text": [
            " Accuracy:  0.8581267217630854\n",
            " F1 score:  0.856967409876355\n"
          ],
          "name": "stdout"
        }
      ]
    }
  ]
}